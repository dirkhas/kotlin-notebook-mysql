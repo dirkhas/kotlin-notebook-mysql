{
 "cells": [
  {
   "cell_type": "code",
   "execution_count": 1,
   "metadata": {
    "collapsed": true,
    "ExecuteTime": {
     "end_time": "2024-01-25T09:51:34.203517Z",
     "start_time": "2024-01-25T09:51:22.588444Z"
    }
   },
   "outputs": [
    {
     "data": {
      "text/plain": "id: Long"
     },
     "execution_count": 1,
     "metadata": {},
     "output_type": "execute_result"
    }
   ],
   "source": [
    "%use dataframe\n",
    "\n",
    "val url = \"jdbc:mariadb://localhost:3306/test\"\n",
    "val username = \"root\"\n",
    "val password = \"\"\n",
    "val config = DatabaseConfiguration(url, username, password)\n",
    "DataFrame.getSchemaForSqlTable(config, \"table_1\")\n"
   ]
  }
 ],
 "metadata": {
  "kernelspec": {
   "display_name": "Kotlin",
   "language": "kotlin",
   "name": "kotlin"
  },
  "language_info": {
   "name": "kotlin",
   "version": "1.9.0",
   "mimetype": "text/x-kotlin",
   "file_extension": ".kt",
   "pygments_lexer": "kotlin",
   "codemirror_mode": "text/x-kotlin",
   "nbconvert_exporter": ""
  }
 },
 "nbformat": 4,
 "nbformat_minor": 0
}
